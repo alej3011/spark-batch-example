{
 "cells": [
  {
   "cell_type": "markdown",
   "id": "376aa94b-f69b-445e-8033-b4c8a8ba79c4",
   "metadata": {},
   "source": [
    "# Procesamiento en batch con Apache Spark\n",
    "## 1. Cargado de información\n",
    "La información que será usada en este ejercicio, se obtuvo directamente de Datos Abiertos de Colombia [Entrada de extranjeros a Colombia desde 2012](https://www.datos.gov.co/Estad-sticas-Nacionales/Entradas-de-extranjeros-a-Colombia/96sh-4v8d/about_data)."
   ]
  },
  {
   "cell_type": "code",
   "execution_count": 1,
   "id": "39e4bcf3-9180-4a63-81f2-f8d913f96c1e",
   "metadata": {},
   "outputs": [
    {
     "name": "stderr",
     "output_type": "stream",
     "text": [
      "WARNING: Using incubator modules: jdk.incubator.vector\n",
      "Using Spark's default log4j profile: org/apache/spark/log4j2-defaults.properties\n",
      "25/10/23 19:27:15 WARN Utils: Your hostname, kevocde-Sword-15-A12VF, resolves to a loopback address: 127.0.1.1; using 192.168.1.7 instead (on interface wlo1)\n",
      "25/10/23 19:27:15 WARN Utils: Set SPARK_LOCAL_IP if you need to bind to another address\n",
      "Using Spark's default log4j profile: org/apache/spark/log4j2-defaults.properties\n",
      "Setting default log level to \"WARN\".\n",
      "To adjust logging level use sc.setLogLevel(newLevel). For SparkR, use setLogLevel(newLevel).\n",
      "25/10/23 19:27:15 WARN NativeCodeLoader: Unable to load native-hadoop library for your platform... using builtin-java classes where applicable\n"
     ]
    }
   ],
   "source": [
    "# Inicializamos una instancia de Apache Spark, importanto librerias y usando SparkSession.builder para dar los datos de conexión\n",
    "from pyspark.sql import SparkSession\n",
    "from pyspark.sql.functions import col, regexp_replace, when, sum, lpad, length\n",
    "spark = SparkSession.builder \\\n",
    "    .appName(\"ProcesamientoY_EDA_Reseñas\") \\\n",
    "    .master(\"local[*]\") \\\n",
    "    .getOrCreate()"
   ]
  },
  {
   "cell_type": "code",
   "execution_count": 2,
   "id": "c27ccc25-adfa-4170-bf3b-ef46366378b7",
   "metadata": {},
   "outputs": [
    {
     "name": "stdout",
     "output_type": "stream",
     "text": [
      "+----+-----+------------+----------+--------+---------+----------+-----+--------------------+\n",
      "| Año|  Mes|Nacionalidad|Codigo M49|Femenino|Masculino|Indefinido|Total|       Ubicación PCM|\n",
      "+----+-----+------------+----------+--------+---------+----------+-----+--------------------+\n",
      "|2012|Enero|     ALBANIA|         8|       1|        2|      NULL|    3|(4.697144,-74.140...|\n",
      "|2012|Enero|    ALEMANIA|       276|       1|        1|      NULL|    2|(0.25129,-76.875963)|\n",
      "|2012|Enero|    ALEMANIA|       276|      63|      102|      NULL|  165|(0.814836,-77.662...|\n",
      "|2012|Enero|    ALEMANIA|       276|      22|       23|      NULL|   45|(10.408582,-75.53...|\n",
      "|2012|Enero|    ALEMANIA|       276|      27|       48|      NULL|   75|(10.445761,-75.51...|\n",
      "+----+-----+------------+----------+--------+---------+----------+-----+--------------------+\n",
      "only showing top 5 rows\n"
     ]
    }
   ],
   "source": [
    "# Cargamos la información directamente desde el filesystem en formato csv\n",
    "df_migrations = spark.read.csv(\"public/Entradas_de_extranjeros_a_Colombia_20251022.csv\", header=True, inferSchema=True)\n",
    "df_migrations.show(5)"
   ]
  },
  {
   "cell_type": "markdown",
   "id": "47d79eca-b83d-45b0-8fce-1cf1b1a33a4d",
   "metadata": {},
   "source": [
    "## 2. Limpieza, transformación y análisis exploratorio\n",
    "Una vez cargada la información, spark nos dará un dataframe por defecto, así que este será el mecanismo por el cual se manipulará la información para el presente ejercicio. Ahora, procederemos a hacer una limpieza y transformación para finalizar con un EDA."
   ]
  },
  {
   "cell_type": "code",
   "execution_count": 3,
   "id": "5658a793-b604-4772-9441-6472709f0045",
   "metadata": {},
   "outputs": [
    {
     "name": "stdout",
     "output_type": "stream",
     "text": [
      "+----+-----+-----------+-------------+-----------+--------------+-----+\n",
      "|year|month|nationality|gender_female|gender_male|gender_unknown|total|\n",
      "+----+-----+-----------+-------------+-----------+--------------+-----+\n",
      "|2012|    1|        008|            1|          2|             0|    3|\n",
      "|2012|    1|        276|            1|          1|             0|    2|\n",
      "|2012|    1|        276|           63|        102|             0|  165|\n",
      "|2012|    1|        276|           22|         23|             0|   45|\n",
      "|2012|    1|        276|           27|         48|             0|   75|\n",
      "+----+-----+-----------+-------------+-----------+--------------+-----+\n",
      "only showing top 5 rows\n"
     ]
    }
   ],
   "source": [
    "# El siguiente código se hizo en una sola instrucción por facilidad, pero lo explico aquí mismo\n",
    "#  1. drop: Se hace una limpieza de columnas con data no relevante para nuestro análisis\n",
    "#  2. withColumnsRenamed: Se modifica el nombre de las columnas existentes por mejorar el typo y por estandarizar el lenguaje.\n",
    "#  3. withColumn: Se limpia la columna de month, para que los datos sean el número del més no su nombre, por facilidad de entendimiento.\n",
    "#  4. withColumn: Se aplican filtros a la columna gender_unknown, aunque al parecer no hay ningún dato.\n",
    "#  5. withColum: Se rellenan los datos de nationality para que cumplan el estandar m49\n",
    "#  6. withColumns: se aplica un replace en las columnas numéricas, ya que los datos tienen comas en las cifras de miles.\n",
    "#  7. withColumns: Se hace un cast en las columnas de tipo entero, para que sean fácilmente operables más adelante.\n",
    "#  8. filter*3: Se hacen los filtros necesarios para eliminar datos erroneos.\n",
    "df_migrations = df_migrations \\\n",
    "    .drop(\"Nacionalidad\", \"Ubicación PCM\") \\\n",
    "    .withColumnsRenamed({\n",
    "        \"Año\": \"year\",\n",
    "        \"Mes\": \"month\",\n",
    "        \"Total\": \"total\",\n",
    "        \"Codigo M49\": \"nationality\",\n",
    "        \"Femenino\": \"gender_female\",\n",
    "        \"Masculino\": \"gender_male\",\n",
    "        \"Indefinido\": \"gender_unknown\",\n",
    "    }) \\\n",
    "    .withColumn(\"month\",\n",
    "        when(col(\"month\") == \"Enero\", 1)\n",
    "        .when(col(\"month\") == \"Febrero\", 2)\n",
    "        .when(col(\"month\") == \"Marzo\", 3)\n",
    "        .when(col(\"month\") == \"Abril\", 4)\n",
    "        .when(col(\"month\") == \"Mayo\", 5)\n",
    "        .when(col(\"month\") == \"Junio\", 6)\n",
    "        .when(col(\"month\") == \"Julio\", 7)\n",
    "        .when(col(\"month\") == \"Agosto\", 8)\n",
    "        .when(col(\"month\") == \"Septiembre\", 9)\n",
    "        .when(col(\"month\") == \"Octubre\", 10)\n",
    "        .when(col(\"month\") == \"Noviembre\", 11)\n",
    "        .when(col(\"month\") == \"Diciembre\", 12)\n",
    "        .otherwise(None)\n",
    "    ) \\\n",
    "    .withColumn(\"gender_unknown\",\n",
    "        when(col(\"gender_unknown\").isNull(), 0)\n",
    "        .otherwise(col(\"gender_unknown\"))\n",
    "    ) \\\n",
    "    .withColumn(\"nationality\", lpad(col(\"nationality\"), 3, \"0\")) \\\n",
    "    .withColumns({\n",
    "        \"gender_female\": regexp_replace(col(\"gender_female\"), \",\", \"\"),\n",
    "        \"gender_male\": regexp_replace(col(\"gender_male\"), \",\", \"\"),\n",
    "        \"gender_unknown\": regexp_replace(col(\"gender_unknown\"), \",\", \"\"),\n",
    "        \"total\": regexp_replace(col(\"total\"), \",\", \"\"),\n",
    "    }) \\\n",
    "    .withColumns({\n",
    "        \"gender_female\": col(\"gender_female\").cast(\"int\"),\n",
    "        \"gender_male\": col(\"gender_male\").cast(\"int\"),\n",
    "        \"gender_unknown\": col(\"gender_unknown\").cast(\"int\"),\n",
    "        \"total\": col(\"total\").cast(\"int\"),\n",
    "    }) \\\n",
    "    .filter(col(\"total\") > 0) \\\n",
    "    .filter(col(\"month\").isNotNull()) \\\n",
    "    .filter(length(col(\"nationality\")) <= 3)\n",
    "\n",
    "df_migrations.show(5)"
   ]
  },
  {
   "cell_type": "markdown",
   "id": "c06cb942-0353-4be3-9454-3fd9e757905f",
   "metadata": {},
   "source": [
    "### Análisis EDA\n",
    "Requerimos analizar, primero el esquema, las columnas de género y la agrupación por años, por meses, por años nacionalidad ..."
   ]
  },
  {
   "cell_type": "code",
   "execution_count": 4,
   "id": "cb0fea93-9839-47ac-b8d0-dec9f526b81d",
   "metadata": {},
   "outputs": [
    {
     "name": "stdout",
     "output_type": "stream",
     "text": [
      "root\n",
      " |-- year: integer (nullable = true)\n",
      " |-- month: integer (nullable = true)\n",
      " |-- nationality: string (nullable = true)\n",
      " |-- gender_female: integer (nullable = true)\n",
      " |-- gender_male: integer (nullable = true)\n",
      " |-- gender_unknown: integer (nullable = true)\n",
      " |-- total: integer (nullable = true)\n",
      "\n"
     ]
    }
   ],
   "source": [
    "# Imprimimos el esquema\n",
    "df_migrations.printSchema()"
   ]
  },
  {
   "cell_type": "code",
   "execution_count": 5,
   "id": "81b12f53-52ae-40cc-8a1e-8a247cde021e",
   "metadata": {},
   "outputs": [
    {
     "name": "stdout",
     "output_type": "stream",
     "text": [
      "+-------+------------------+\n",
      "|summary|     gender_female|\n",
      "+-------+------------------+\n",
      "|  count|            164908|\n",
      "|   mean|103.09747253013802|\n",
      "| stddev| 715.4209251755556|\n",
      "|    min|                 0|\n",
      "|    max|             39366|\n",
      "+-------+------------------+\n",
      "\n",
      "+-------+----------------+\n",
      "|summary|     gender_male|\n",
      "+-------+----------------+\n",
      "|  count|          164908|\n",
      "|   mean|138.576090911296|\n",
      "| stddev|926.006684973606|\n",
      "|    min|               0|\n",
      "|    max|           47999|\n",
      "+-------+----------------+\n",
      "\n",
      "+-------+--------------+\n",
      "|summary|gender_unknown|\n",
      "+-------+--------------+\n",
      "|  count|        164908|\n",
      "|   mean|           0.0|\n",
      "| stddev|           0.0|\n",
      "|    min|             0|\n",
      "|    max|             0|\n",
      "+-------+--------------+\n",
      "\n"
     ]
    }
   ],
   "source": [
    "# Analizamos las columnas de género\n",
    "df_migrations.describe([\"gender_female\"]).show()\n",
    "df_migrations.describe([\"gender_male\"]).show()\n",
    "df_migrations.describe([\"gender_unknown\"]).show()"
   ]
  },
  {
   "cell_type": "code",
   "execution_count": 6,
   "id": "208c28f3-cb1d-43d5-bcd1-700cc9c48c1b",
   "metadata": {},
   "outputs": [
    {
     "name": "stdout",
     "output_type": "stream",
     "text": [
      "+----+-------+\n",
      "|year|  total|\n",
      "+----+-------+\n",
      "|2012|1698888|\n",
      "|2013|1841365|\n",
      "|2014|2055393|\n",
      "|2015|2385705|\n",
      "|2016|2697613|\n",
      "|2017|3341928|\n",
      "|2018|4147444|\n",
      "|2019|3982183|\n",
      "|2020| 999157|\n",
      "|2021|1519490|\n",
      "|2022|3507293|\n",
      "|2023|4337114|\n",
      "|2024|4844326|\n",
      "|2025|2497788|\n",
      "+----+-------+\n",
      "\n"
     ]
    }
   ],
   "source": [
    "# Revisaremos ahora los datos por agrupaciones\n",
    "#  Aquí vemos la relación del total de migrantes por año en orden ascendente:\n",
    "#   Claramente vemos una disminución de migrantes de todas las nacionalidades en época de pandemia.\n",
    "df_migrations.groupBy(\"year\").agg(sum(\"total\").alias(\"total\")).sort(\"year\").show()"
   ]
  },
  {
   "cell_type": "code",
   "execution_count": 7,
   "id": "9b216b3f-14a2-4c14-bff9-47ac965c7486",
   "metadata": {},
   "outputs": [
    {
     "name": "stdout",
     "output_type": "stream",
     "text": [
      "+-----------+-------+\n",
      "|nationality|  total|\n",
      "+-----------+-------+\n",
      "|        840|8461881|\n",
      "|        862|7012035|\n",
      "|        484|2424909|\n",
      "|        218|2381632|\n",
      "|        604|1915423|\n",
      "|        076|1821977|\n",
      "|        032|1702233|\n",
      "|        724|1615736|\n",
      "|        152|1602198|\n",
      "|        591|1252255|\n",
      "|        250| 858399|\n",
      "|        188| 820179|\n",
      "|        124| 784573|\n",
      "|        276| 774184|\n",
      "|        528| 696592|\n",
      "|        214| 581009|\n",
      "|        826| 558177|\n",
      "|        380| 538852|\n",
      "|        320| 340336|\n",
      "|        222| 316584|\n",
      "+-----------+-------+\n",
      "only showing top 20 rows\n"
     ]
    }
   ],
   "source": [
    "# Aquí vemos el total de migrantes por nacionalidad, la nacionalidad está en formato m49:\n",
    "#  Pero vemos en primer lugar a Estados Unidos (que ironía), luego vemos a Venezuela (que novedad), luego Mexico etc.\n",
    "df_migrations.groupBy(\"nationality\").agg(sum(\"total\").alias(\"total\")).sort(\"total\", ascending=False).show()"
   ]
  },
  {
   "cell_type": "markdown",
   "id": "de05a544-18c3-48a4-8b07-3c190fd06e15",
   "metadata": {},
   "source": [
    "## 3. Finalizamos con el almacenado de los datos procesados\n",
    "Almacenaremos tan solo los datos filtrados."
   ]
  },
  {
   "cell_type": "code",
   "execution_count": 8,
   "id": "acff24bd-aff6-435b-a799-732cf4980800",
   "metadata": {},
   "outputs": [
    {
     "name": "stderr",
     "output_type": "stream",
     "text": [
      "                                                                                "
     ]
    }
   ],
   "source": [
    "df_migrations.write.mode(\"overwrite\").parquet(\"migration_data\")"
   ]
  }
 ],
 "metadata": {
  "kernelspec": {
   "display_name": "Python 3 (ipykernel)",
   "language": "python",
   "name": "python3"
  },
  "language_info": {
   "codemirror_mode": {
    "name": "ipython",
    "version": 3
   },
   "file_extension": ".py",
   "mimetype": "text/x-python",
   "name": "python",
   "nbconvert_exporter": "python",
   "pygments_lexer": "ipython3",
   "version": "3.10.19"
  }
 },
 "nbformat": 4,
 "nbformat_minor": 5
}
